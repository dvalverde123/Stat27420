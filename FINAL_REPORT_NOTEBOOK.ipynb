{
 "cells": [
  {
   "cell_type": "markdown",
   "metadata": {},
   "source": [
    "# ** Do Permanent School Closings in Chicago Increase Crime Rates? **\n",
    "# By: Dani Valverde and Katherine Tai"
   ]
  },
  {
   "cell_type": "code",
   "execution_count": 72,
   "metadata": {},
   "outputs": [],
   "source": [
    "import numpy as np\n",
    "import pandas as pd\n",
    "import scipy as sp\n",
    "from sklearn.ensemble import RandomForestClassifier, RandomForestRegressor\n",
    "from sklearn.linear_model import LinearRegression, LogisticRegression, LogisticRegressionCV, RidgeClassifier, RidgeClassifierCV\n",
    "from sklearn.neighbors import KNeighborsRegressor, KNeighborsClassifier\n",
    "from sklearn.model_selection import KFold, StratifiedKFold, train_test_split\n",
    "from sklearn.metrics import mean_squared_error, log_loss\n",
    "import sklearn\n",
    "import os\n",
    "import matplotlib as plt\n",
    "import xgboost as xgb\n",
    "from xgboost import XGBClassifier, XGBRegressor\n",
    "import pathlib\n",
    "from austen_plots.AustenPlot import AustenPlot"
   ]
  },
  {
   "cell_type": "markdown",
   "metadata": {},
   "source": [
    "# Introduction\n",
    "Since 2002, Chicago Public Schools (CPS) has closed at least one school every year between 2002 and 2018. In this report, the question we are aiming to answer is: \"What is the effect of school closings on crime rates in the ZIP Codes where schools are closed?\"\n",
    "\n",
    "Previous research has studied the effects of school closings on the students whose schools were closed and on the students' academic performance as a group. However, few studies have studied the short-term and long-term effects of school closings on the neighborhoods where the schools are closed. \n",
    "\n",
    "One study, performed by N Brazil, has studied the effects of the 2013 school closings in Chicago. However, this study focused more on the absolute distance of the school in meters and the effect on the community. Further, this study explicitly chose not to focus on the binary variable of whether schools were closed or not closed. In addition, Brazil's study focused exclusively on census-tract level data. Our analysis focuses on Chicago Community Areas, which are larger than census tracts and may reveal differences in crime patterns. Further, we are analyzing the effects of all school closures, including those in years where only 1-2 schools were closed. We hope that analyzing more schools over time will yield revealing into insights into the ways that closing schools affects a community, if at all. \n",
    "\n",
    "In particular, the vast majority of schools were closed in 2013. Since it has been almost 10 years since the schools were closed, this time elapsed provides a useful time period for estimating the short-term effects on neighborhoods. Further, because crime data is widely available, it is possible to measure the changes in crime rates in particular zip codes from year-to-year. And, because some community areas did not have schools closed, it is possible to determine how much of a change in crime is due to citywide trends, and how much can be attributed to the particular school closing. "
   ]
  },
  {
   "cell_type": "markdown",
   "metadata": {},
   "source": [
    "# Data \n",
    "We utilized publicly available data from the City of Chicago Data Portal about Crime Statistics since 2001 by Zip Code. There were also publicly available lists of school closings. Combining the dates and ZIP Codes of school closings and the crime rates for those ZIP codes and years, it is possible to measure the effect of these school closings within a given community area within the city of Chicago.\n",
    "\n",
    "Community areas are defined geographic areas set by the City of Chicago. They are  static, larger than census tracts, and their boundaries do not change as often as city wards, and are more geographically precise than ZIP Codes. \n",
    "\n",
    "One of the challenges in answering this question is identifying confounders. Previous research has shown that overall economic indicators such as unemployment rate and economic growth, as well as the proportion of males ages 15-25 are strong predictors for crime rates. Some of the often stated reasons for schools closing are poor performance and population declines. \n",
    "\n",
    "Therefore, we calculated the "
   ]
  },
  {
   "cell_type": "markdown",
   "metadata": {},
   "source": [
    "# Methodology\n",
    "To identify the causal estimand of interest, we utilized a Double Machine Learning approach. In the figures below, we show the results of a linear regression. \n",
    "When we adjusted for confounders, we found that \n",
    "\n",
    "For estimation, we utilized a Difference in Differences approach to estimating the data.\n",
    "\n",
    "One of the challenges with this analysis was adjusting for observed and unobserved confounders. Social characteristics such as poverty rates, household income, college attainment rates are all predictors of crime. \n",
    "\n",
    "In addition to our identification and estimation techniques, we also conducted sensitivity analysis"
   ]
  },
  {
   "cell_type": "code",
   "execution_count": null,
   "metadata": {},
   "outputs": [],
   "source": []
  },
  {
   "cell_type": "code",
   "execution_count": null,
   "metadata": {},
   "outputs": [],
   "source": []
  },
  {
   "cell_type": "code",
   "execution_count": null,
   "metadata": {},
   "outputs": [],
   "source": []
  },
  {
   "cell_type": "code",
   "execution_count": null,
   "metadata": {},
   "outputs": [],
   "source": []
  },
  {
   "cell_type": "code",
   "execution_count": 28,
   "metadata": {},
   "outputs": [],
   "source": []
  },
  {
   "cell_type": "code",
   "execution_count": null,
   "metadata": {},
   "outputs": [],
   "source": []
  },
  {
   "cell_type": "code",
   "execution_count": null,
   "metadata": {},
   "outputs": [],
   "source": [
    "# could do cross fitting here? Idt it will work tho "
   ]
  },
  {
   "cell_type": "code",
   "execution_count": null,
   "metadata": {},
   "outputs": [],
   "source": []
  },
  {
   "cell_type": "code",
   "execution_count": 27,
   "metadata": {},
   "outputs": [],
   "source": []
  },
  {
   "cell_type": "code",
   "execution_count": null,
   "metadata": {},
   "outputs": [],
   "source": [
    "# Double ML Library Estimation Procedure "
   ]
  },
  {
   "cell_type": "code",
   "execution_count": 84,
   "metadata": {},
   "outputs": [],
   "source": [
    "crime_data = pd.read_csv(\"CLEANED_DATA.csv\")\n",
    "\n",
    "RANDOM_SEED = 12345\n",
    "np.random.seed(RANDOM_SEED)\n",
    "\n",
    "\n",
    "def find_estimators(year):\n",
    "    \"\"\"\n",
    "    Finds ATT and ATE estimator under diff in diff for given year of school closings\n",
    "    Input:\n",
    "        year (string): year of school closing\n",
    "    Returns:\n",
    "        Prints ATT and ATE\n",
    "    \"\"\"\n",
    "\n",
    "    treatment, outcome, confounders = define_variables(year)\n",
    "\n",
    "    # finds best Q and g nuisance functions\n",
    "    Q_model = find_Q_model(treatment, outcome, confounders)\n",
    "    g_model = find_g_model(treatment, outcome, confounders)\n",
    "\n",
    "    g = treatment_k_fold_fit_predict(g_model, X=confounders, A=treatment, n_splits=7)\n",
    "\n",
    "    Q0, Q1 = outcome_k_fold_fit_predict(Q_model, X=confounders, y=outcome, \\\n",
    "        A=treatment, n_splits=10, output_type='continuous')\n",
    "\n",
    "    data_nuisance_estimates = pd.DataFrame({'g': g, 'Q0': Q0, 'Q1': Q1, 'A': treatment, 'Y': outcome})\n",
    "    data_nuisance_estimates.head()\n",
    "\n",
    "    tau_hat_att, std_hat_att = att_aiptw(**data_nuisance_estimates)\n",
    "    print(f\"The ATT estimate is {tau_hat_att} pm {1.96*std_hat_att}\")\n",
    "\n",
    "    in_treated = data_nuisance_estimates['A']==1\n",
    "    treated_estimates = data_nuisance_estimates[in_treated]\n",
    "    tau_hat_ate, std_hat_ate = ate_aiptw(**treated_estimates)\n",
    "    print(f\"The ATE estimate is {tau_hat_ate} pm {1.96*std_hat_ate}\")\n",
    "\n",
    "    # address overlap issues here \n",
    "    new_g = data_nuisance_estimates['g']\n",
    "    in_overlap_popluation = (new_g < 0.90)\n",
    "    overlap_data_and_nuisance = data_nuisance_estimates[in_overlap_popluation]\n",
    "    tau_hat, std_hat = att_aiptw(**overlap_data_and_nuisance)\n",
    "    print(f\"The ATT estimate with restricted population is {tau_hat} pm {1.96*std_hat}\")\n",
    "\n",
    "    # point estimate without covariate correction\n",
    "    outcome[treatment==1].mean()-outcome[treatment==0].mean()\n",
    "\n",
    "    # perform sensitivity analysis and plot\n",
    "    sensitivity_analysis(treatment, outcome, confounders, year, g_model, Q_model)\n",
    "\n",
    "\n",
    "def define_variables(year):\n",
    "    \"\"\"\n",
    "    Define treatment and outcome for a given year\n",
    "    Input:\n",
    "        year (string): year of school closing\n",
    "    \n",
    "    Return:\n",
    "        treatment\n",
    "        outcome\n",
    "        confounders\n",
    "    \"\"\"\n",
    "\n",
    "    outcome_year = int(year) + 1\n",
    "\n",
    "    treatment = crime_data[\"Treatment_\" + year]\n",
    "    outcome = crime_data[str(outcome_year) + \"_cr_per_100k\"]\n",
    "    confounders = crime_data[[\"Birth Rate\", \"Pop_\" + year, \"Assault (Homicide)\", \n",
    "        \"Below Poverty Level\", \"Per Capita Income\", \"Unemployment\", \"Males_15_25\", \"MED_AGE\", \"WHITE\", \"HISP\", \"BLACK\", \"ASIAN\", \"NOT_ENGLISH\"]]\n",
    "\n",
    "    return treatment, outcome, confounders\n",
    "\n",
    "\n",
    "def find_Q_model(treatment, outcome, confounders):\n",
    "    \"\"\"\n",
    "    Finds model for conditional expected outcome that minimizes MSE, comparing\n",
    "    random forest, gradient boosting, linear regression, k nearest neighbors,\n",
    "    and baseline\n",
    "    Inputs:\n",
    "        treatment\n",
    "        outcome\n",
    "        confounders\n",
    "    Returns:\n",
    "        Prints out MSE under each model\n",
    "    \"\"\"\n",
    "\n",
    "    X_w_treatment = confounders.copy()\n",
    "    X_w_treatment['treatment'] = treatment\n",
    "    X_train, X_test, Y_train, Y_test = train_test_split(X_w_treatment, outcome, test_size=0.2)\n",
    "\n",
    "    # random_forest\n",
    "    random_forest_Q = RandomForestRegressor(random_state=RANDOM_SEED, n_estimators=500, max_depth=None)\n",
    "    random_forest_Q.fit(X_train, Y_train)\n",
    "    RF_Y_Pred = random_forest_Q.predict(X_test)\n",
    "\n",
    "    test_mse_rf = mean_squared_error(RF_Y_Pred, Y_test)\n",
    "    print(f\"Test MSE of random forest model {test_mse_rf}\") \n",
    "\n",
    "    # gradient boosting \n",
    "    xgb_Q = XGBRegressor().fit(X_train, Y_train)\n",
    "    XGB_Y_Pred = xgb_Q.predict(X_test)\n",
    "\n",
    "    test_mse_xgb = mean_squared_error(XGB_Y_Pred, Y_test)\n",
    "    print(f\"Test MSE of gradient boosting model {test_mse_xgb}\") \n",
    "\n",
    "    # linear regression \n",
    "    regression_Q = LinearRegression().fit(X_train, Y_train)\n",
    "    regression_Y_Pred = regression_Q.predict(X_test)\n",
    "\n",
    "    test_mse_lr = mean_squared_error(regression_Y_Pred, Y_test)\n",
    "    print(f\"Test MSE of linear regression model {test_mse_lr}\") \n",
    "\n",
    "    # k nearest neighbors \n",
    "    knn_Q = KNeighborsRegressor().fit(X_train, Y_train)\n",
    "    knn_Y_Pred = knn_Q.predict(X_test)\n",
    "    test_mse_knn = mean_squared_error(knn_Y_Pred, Y_test)\n",
    "    print(f\"Test MSE of k-nearest neighbors model {test_mse_knn}\")\n",
    "\n",
    "    # baseline MSE\n",
    "    baseline_mse = mean_squared_error(Y_train.mean()*np.ones_like(Y_test), Y_test)\n",
    "    print(f\"Test MSE of no-covariate model {baseline_mse}\")\n",
    "\n",
    "    if min(test_mse_rf, test_mse_xgb, test_mse_lr, test_mse_knn) == test_mse_rf:\n",
    "        return RandomForestRegressor(random_state=RANDOM_SEED, n_estimators=500, max_depth=None)\n",
    "    elif min(test_mse_rf, test_mse_xgb, test_mse_lr, test_mse_knn) == test_mse_xgb:\n",
    "        return XGBRegressor()\n",
    "    elif min(test_mse_rf, test_mse_xgb, test_mse_lr, test_mse_knn) == test_mse_lr:\n",
    "        return LinearRegression()\n",
    "    else:\n",
    "        return KNeighborsRegressor()\n",
    "\n",
    "\n",
    "def find_g_model(treatment, outcome, confounders):\n",
    "    \"\"\"\n",
    "    Finds model for propensity score that minimizes cross entropy, comparing\n",
    "    random forest, gradient boosting, logistic regression, and baseline\n",
    "    Inputs:\n",
    "        treatment\n",
    "        outcome\n",
    "        confounders\n",
    "    Returns:\n",
    "        Prints out CE under each model\n",
    "    \"\"\"\n",
    "\n",
    "    X_train, X_test, A_train, A_test = train_test_split(confounders, treatment, test_size=0.2)\n",
    "\n",
    "    # random forest \n",
    "    random_forest_g = RandomForestClassifier(n_estimators=100, max_depth=2)\n",
    "    random_forest_g.fit(X_train, A_train)\n",
    "    RF_A_Pred = random_forest_g.predict_proba(X_test)[:,1]\n",
    "    test_ce_rf = log_loss(A_test, RF_A_Pred)\n",
    "    print(f\"Test CE of random forest model {test_ce_rf}\") \n",
    "\n",
    "    # gradient boosting \n",
    "    xgb_g = XGBClassifier().fit(X_train, A_train)\n",
    "    XGB_A_Pred = xgb_g.predict_proba(X_test)\n",
    "    test_ce_xgb = log_loss(A_test, XGB_A_Pred)\n",
    "    print(f\"Test CE of gradient boosting model {test_ce_xgb}\") \n",
    "\n",
    "    # logistic regression \n",
    "    regression_g = LogisticRegressionCV(solver = \"liblinear\", max_iter=1000).fit(X_train, A_train)\n",
    "    regression_A_Pred = regression_g.predict_proba(X_test)\n",
    "    test_ce_lr = log_loss(A_test, regression_A_Pred)\n",
    "    print(f\"Test CE of logistic regression model {test_ce_lr}\") \n",
    "\n",
    "    # k nearest neighbors \n",
    "    knn_Q = KNeighborsClassifier().fit(X_train, A_train)\n",
    "    knn_A_Pred = knn_Q.predict_proba(X_test)\n",
    "    test_ce_knn = log_loss(A_test, knn_A_Pred)\n",
    "    print(f\"Test CE of k-nearest neighbors model {test_ce_knn}\")\n",
    "\n",
    "    # baseline CE\n",
    "    baseline_cross_entropy = log_loss(A_test, A_train.mean()*np.ones_like(A_test))\n",
    "    print(f\"Test CE of no-covariate model {baseline_cross_entropy}\")\n",
    "\n",
    "    if min(test_ce_rf, test_ce_xgb, test_ce_lr, test_ce_knn) == test_ce_rf:\n",
    "        return RandomForestClassifier(n_estimators=100, max_depth=2)\n",
    "    elif min(test_ce_rf, test_ce_xgb, test_ce_lr) == test_ce_xgb:\n",
    "        return XGBClassifier()\n",
    "    elif min(test_ce_rf, test_ce_xgb, test_ce_lr, test_ce_knn) == test_ce_lr:\n",
    "        return LogisticRegressionCV(max_iter=1000)\n",
    "    else:\n",
    "        return KNeighborsClassifier()\n",
    "\n",
    "\n",
    "# Use cross fitting to get predicted outcomes and propensity scores for each unit\n",
    "def treatment_k_fold_fit_predict(g_model, X:pd.DataFrame, A:np.array, n_splits:int):\n",
    "    predictions = np.full_like(A, np.nan, dtype=float)\n",
    "    kf = StratifiedKFold(n_splits=n_splits, shuffle=True, random_state=RANDOM_SEED)\n",
    "\n",
    "    for train_index, test_index in kf.split(X,A):\n",
    "        X_train = X.loc[train_index]\n",
    "        A_train = A.loc[train_index]\n",
    "        g_model.fit(X_train, A_train)\n",
    "\n",
    "        predictions[test_index] = g_model.predict_proba(X.loc[test_index])[:,1]\n",
    "\n",
    "    assert np.isnan(predictions).sum() == 0\n",
    "    return predictions\n",
    "\n",
    "def outcome_k_fold_fit_predict(q_model, X:pd.DataFrame, y:np.array, A:np.array, n_splits:int, output_type:str):\n",
    "    predictions0 = np.full_like(A, np.nan, dtype=float)\n",
    "    predictions1 = np.full_like(y, np.nan, dtype=float)\n",
    "    if output_type == 'binary':\n",
    "        kf = StratifiedKFold(n_splits=n_splits, shuffle=True, random_state=RANDOM_SEED)\n",
    "    elif output_type == 'continuous':\n",
    "        kf = KFold(n_splits=n_splits, shuffle=True, random_state=RANDOM_SEED)\n",
    "\n",
    "    X_w_treatment = X.copy()\n",
    "    X_w_treatment[\"A\"] = A\n",
    "\n",
    "    X0 = X_w_treatment.copy()\n",
    "    X0[\"A\"] = 0\n",
    "    X1 = X_w_treatment.copy()\n",
    "    X1[\"A\"] = 1\n",
    "\n",
    "    for train_index, test_index in kf.split(X_w_treatment, y):\n",
    "        X_train = X_w_treatment.loc[train_index]\n",
    "        y_train = y.loc[train_index]\n",
    "        q_model.fit(X_train, y_train)\n",
    "\n",
    "        if output_type == 'binary':\n",
    "            predictions0[test_index] = q_model.predict_proba(X0.loc[test_index])[:, 1]\n",
    "            predictions1[test_index] = q_model.predict_proba(X1.loc[test_index])[:, 1]\n",
    "        elif output_type == 'continuous':\n",
    "            predictions0[test_index] = q_model.predict(X0.loc[test_index])\n",
    "            predictions1[test_index] = q_model.predict(X1.loc[test_index])\n",
    "\n",
    "    assert np.isnan(predictions0).sum() == 0\n",
    "    assert np.isnan(predictions1).sum() == 0\n",
    "    return predictions0, predictions1\n",
    "\n",
    "\n",
    "def att_aiptw(Q0, Q1, g, A, Y, prob_t=None):\n",
    "    \"\"\"\n",
    "    Finds Double ML estimator for ATT\n",
    "    \"\"\"\n",
    "\n",
    "    if prob_t is None:\n",
    "        prob_t = A.mean()\n",
    "\n",
    "    tau_hat = (A*(Y-Q0) - (1-A)*(g/(1-g))*(Y-Q0)).mean()/ prob_t\n",
    "\n",
    "    scores = (A*(Y-Q0) - (1-A)*(g/(1-g))*(Y-Q0) - tau_hat*A) / prob_t\n",
    "    n = Y.shape[0]\n",
    "    std_hat = np.std(scores) / np.sqrt(n)\n",
    "    \n",
    "    return tau_hat, std_hat\n",
    "\n",
    "\n",
    "def ate_aiptw(Q0, Q1, g, A, Y, prob_t=None):\n",
    "    \"\"\"\n",
    "    Finds Double ML estimator for ATE\n",
    "    \"\"\"\n",
    "    tau_hat = (Q1-Q0 + A*(Y-Q1)/g - (1-A) * (Y-Q0)/(1-g)).mean()\n",
    "    \n",
    "    scores = Q1 - Q0 + A*(Y-Q1)/g - (1-A) * (Y-Q0)/(1-g) - tau_hat\n",
    "    n = Y.shape[0]\n",
    "    std_hat = np.std(scores) / np.sqrt(n)\n",
    "    \n",
    "    return tau_hat, std_hat\n",
    "\n",
    "\n",
    "def sensitivity_analysis(treatment, outcome, confounders, year, g_model, Q_model):\n",
    "    \"\"\"\n",
    "    Perform Austen Plots sensitivity analysis\n",
    "    Input:\n",
    "        treatment\n",
    "        outcome\n",
    "        confounders\n",
    "        year (string)\n",
    "    Return:\n",
    "        plot\n",
    "    \"\"\"\n",
    "\n",
    "    covariate_groups = {\n",
    "        'economic': [\"Per Capita Income\", \"Below Poverty Level\"],\n",
    "        'population': [\"Birth Rate\", \"Pop_\" + year, \"Assault (Homicide)\"], \n",
    "        'demographics': [\"Males_15_25\", \"MED_AGE\", \"WHITE\", \"HISP\", \"BLACK\", \"ASIAN\"],\n",
    "        'language': \"NOT_ENGLISH\"}\n",
    "\n",
    "    # for each covariate group, refit models without using that group \n",
    "    nuisance_estimates = {}\n",
    "    for group, covs in covariate_groups.items():\n",
    "        remaining_confounders = confounders.drop(columns=covs)\n",
    "\n",
    "        g = treatment_k_fold_fit_predict(g_model, X=remaining_confounders, A=treatment, n_splits=5)\n",
    "        Q0, Q1 = outcome_k_fold_fit_predict(Q_model, X=remaining_confounders, y=outcome, A=treatment, n_splits=5, output_type=\"continuous\")\n",
    "        data_nuisance_estimates = pd.DataFrame(({'g': g, 'Q0': Q0, 'Q1': Q1, 'A': treatment, 'Y': outcome}))\n",
    "        nuisance_estimates[group] = data_nuisance_estimates\n",
    "\n",
    "    data_nuisance_path = 'data_nuisance_estimates.csv'\n",
    "    covariate_dir_path = 'covariates/'\n",
    "\n",
    "    austen_data_nuisance = convert_to_austen_format(data_nuisance_estimates)\n",
    "    austen_data_nuisance.to_csv(data_nuisance_path, index=False)\n",
    "\n",
    "    pathlib.Path(covariate_dir_path).mkdir(exist_ok=True)\n",
    "    for group, nuisance_estimate in nuisance_estimates.items():\n",
    "        austen_nuisance_estimate = convert_to_austen_format(nuisance_estimate)\n",
    "        austen_nuisance_estimate.to_csv(os.path.join(covariate_dir_path, group+'.csv'), index=False)\n",
    "\n",
    "    # Austen Plots \n",
    "    target_bias = 2500\n",
    "\n",
    "    ap = AustenPlot(data_nuisance_path, covariate_dir_path)\n",
    "    p, plot_coords, variable_coords = ap.fit(bias=target_bias)\n",
    "\n",
    "    return p\n",
    "\n",
    "\n",
    "def convert_to_austen_format(nuisance_estimate_df: pd.DataFrame):\n",
    "    austen_df = pd.DataFrame()\n",
    "    austen_df['y']=nuisance_estimate_df['Y']\n",
    "    austen_df['t']=nuisance_estimate_df['A']\n",
    "    austen_df['g']=nuisance_estimate_df['g']\n",
    "    A = nuisance_estimate_df['A']\n",
    "    austen_df['Q']=A*nuisance_estimate_df['Q1'] + (1-A)*nuisance_estimate_df['Q0']\n",
    "\n",
    "    return austen_df\n"
   ]
  },
  {
   "cell_type": "code",
   "execution_count": null,
   "metadata": {},
   "outputs": [],
   "source": [
    "# Differences in Differences Estimation "
   ]
  },
  {
   "cell_type": "markdown",
   "metadata": {},
   "source": [
    "# Results"
   ]
  },
  {
   "cell_type": "markdown",
   "metadata": {},
   "source": [
    "# Sensitivity Analysis"
   ]
  },
  {
   "cell_type": "code",
   "execution_count": 85,
   "metadata": {
    "scrolled": true
   },
   "outputs": [
    {
     "name": "stdout",
     "output_type": "stream",
     "text": [
      "Test MSE of random forest model 10158609.936705\n",
      "Test MSE of gradient boosting model 16595581.235792354\n",
      "Test MSE of linear regression model 12224180.027058337\n",
      "Test MSE of k-nearest neighbors model 10368460.732500002\n",
      "Test MSE of no-covariate model 55854510.23611112\n",
      "Test CE of random forest model 0.4933021779266046\n",
      "[16:46:26] WARNING: /Users/runner/work/xgboost/xgboost/src/learner.cc:1115: Starting in XGBoost 1.3.0, the default evaluation metric used with the objective 'binary:logistic' was changed from 'error' to 'logloss'. Explicitly set eval_metric if you'd like to restore the old behavior.\n",
      "Test CE of gradient boosting model 0.7362210633109498\n",
      "Test CE of logistic regression model 1.4376871661628228\n",
      "Test CE of k-nearest neighbors model 2.511418956020856\n",
      "Test CE of no-covariate model 0.7683249487440789\n"
     ]
    },
    {
     "name": "stderr",
     "output_type": "stream",
     "text": [
      "/Library/Frameworks/Python.framework/Versions/3.8/lib/python3.8/site-packages/xgboost/sklearn.py:1224: UserWarning: The use of label encoder in XGBClassifier is deprecated and will be removed in a future release. To remove this warning, do the following: 1) Pass option use_label_encoder=False when constructing XGBClassifier object; and 2) Encode your labels (y) as integers starting with 0, i.e. 0, 1, 2, ..., [num_class - 1].\n"
     ]
    },
    {
     "name": "stdout",
     "output_type": "stream",
     "text": [
      "Fitting main dataset\n"
     ]
    },
    {
     "data": {
      "image/png": "[encoded data removed]",
      "text/plain": [
       "<Figure size 350x350 with 1 Axes>"
      ]
     },
     "metadata": {},
     "output_type": "display_data"
    },
    {
     "data": {
      "text/plain": [
       "<ggplot: (8789592691655)>"
      ]
     },
     "execution_count": 85,
     "metadata": {},
     "output_type": "execute_result"
    }
   ],
   "source": [
    "treatment, outcome, confounders = define_variables(\"2013\")\n",
    "Q_model = find_Q_model(treatment, outcome, confounders)\n",
    "g_model = find_g_model(treatment, outcome, confounders)\n",
    "sensitivity_analysis(treatment, outcome, confounders, \"2013\", g_model, Q_model)"
   ]
  },
  {
   "cell_type": "code",
   "execution_count": 77,
   "metadata": {},
   "outputs": [
    {
     "name": "stdout",
     "output_type": "stream",
     "text": [
      "Test MSE of random forest model 14155863.810948499\n",
      "Test MSE of gradient boosting model 43131858.23850457\n",
      "Test MSE of linear regression model 20605082.538639933\n",
      "Test MSE of k-nearest neighbors model 6671687.125000001\n",
      "Test MSE of no-covariate model 31224242.875\n",
      "Test CE of random forest model 0.3998646065613375\n",
      "[16:09:04] WARNING: /Users/runner/work/xgboost/xgboost/src/learner.cc:1115: Starting in XGBoost 1.3.0, the default evaluation metric used with the objective 'binary:logistic' was changed from 'error' to 'logloss'. Explicitly set eval_metric if you'd like to restore the old behavior.\n",
      "Test CE of gradient boosting model 0.53134839219274\n",
      "Test CE of logistic regression model 0.558355458787838\n",
      "Test CE of k-nearest neighbors model 2.4402043133215834\n",
      "Test CE of no-covariate model 0.5684994090355333\n"
     ]
    },
    {
     "name": "stderr",
     "output_type": "stream",
     "text": [
      "/Library/Frameworks/Python.framework/Versions/3.8/lib/python3.8/site-packages/xgboost/sklearn.py:1224: UserWarning: The use of label encoder in XGBClassifier is deprecated and will be removed in a future release. To remove this warning, do the following: 1) Pass option use_label_encoder=False when constructing XGBClassifier object; and 2) Encode your labels (y) as integers starting with 0, i.e. 0, 1, 2, ..., [num_class - 1].\n"
     ]
    },
    {
     "name": "stdout",
     "output_type": "stream",
     "text": [
      "The ATT estimate is 2914.946039345714 pm 2678.8975672388424\n",
      "The ATE estimate is 5732.386109524821 pm 5414.587797451961\n",
      "The ATT estimate with restricted population is 2914.946039345714 pm 2678.8975672388424\n",
      "Fitting main dataset\n"
     ]
    }
   ],
   "source": [
    "find_estimators('2013')"
   ]
  },
  {
   "cell_type": "code",
   "execution_count": 31,
   "metadata": {},
   "outputs": [],
   "source": []
  },
  {
   "cell_type": "code",
   "execution_count": null,
   "metadata": {},
   "outputs": [],
   "source": []
  },
  {
   "cell_type": "markdown",
   "metadata": {},
   "source": [
    "# Additional Considerations\n",
    "One of the most obvious considerations in our analysis is that the factors that lead to crime are not precisely understood. As stated earlier, there are a few indicators "
   ]
  }
 ],
 "metadata": {
  "kernelspec": {
   "display_name": "Python 3",
   "language": "python",
   "name": "python3"
  },
  "language_info": {
   "codemirror_mode": {
    "name": "ipython",
    "version": 3
   },
   "file_extension": ".py",
   "mimetype": "text/x-python",
   "name": "python",
   "nbconvert_exporter": "python",
   "pygments_lexer": "ipython3",
   "version": "3.8.0"
  }
 },
 "nbformat": 4,
 "nbformat_minor": 4
}
