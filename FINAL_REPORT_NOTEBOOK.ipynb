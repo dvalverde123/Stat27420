{
 "cells": [
  {
   "cell_type": "markdown",
   "metadata": {},
   "source": [
    "# ** Do Permanent School Closings in Chicago Increase Crime Rates? **\n",
    "# By: Dani Valverde and Katherine Tai"
   ]
  },
  {
   "cell_type": "code",
   "execution_count": 2,
   "metadata": {},
   "outputs": [],
   "source": [
    "import numpy as np\n",
    "import pandas as pd\n",
    "import scipy as sp\n",
    "import matplotlib as plt\n",
    "from sklearn.ensemble import RandomForestClassifier, RandomForestRegressor\n",
    "from sklearn.linear_model import LogisticRegression\n",
    "from sklearn.model_selection import KFold, StratifiedKFold, train_test_split\n",
    "from sklearn.metrics import mean_squared_error, log_loss\n",
    "from xgboost import XGBClassifier, XGBRegressor\n",
    "import sklearn\n",
    "import os\n",
    "from austen_plots.AustenPlot import AustenPlot\n",
    "from doubleml import DoubleMLData\n",
    "from doubleml import DoubleMLPLR\n",
    "import doubleml as dml"
   ]
  },
  {
   "cell_type": "markdown",
   "metadata": {},
   "source": [
    "# Introduction\n",
    "Since 2002, Chicago Public Schools (CPS) has closed at least one school every year between 2002 and 2018. In this report, the question we are aiming to answer is: \"What is the effect of school closings on crime rates in the ZIP Codes where schools are closed?\"\n",
    "\n",
    "Previous research has studied the effects of school closings on the students whose schools were closed and on the students' academic performance as a group. However, few studies have studied the short-term and long-term effects of school closings on the neighborhoods where the schools are closed. \n",
    "\n",
    "One study, performed by N Brazil, has studied the effects of the 2013 school closings in Chicago. However, this study focused more on the absolute distance of the school in meters and the effect on the community. Further, this study explicitly chose not to focus on the binary variable of whether schools were closed or not closed. In addition, Brazil's study focused exclusively on census-tract level data. Our analysis focuses on Chicago Community Areas, which are larger than census tracts and may reveal differences in crime patterns. Further, we are analyzing the effects of all school closures, including those in years where only 1-2 schools were closed. We hope that analyzing more schools over time will yield revealing into insights into the ways that closing schools affects a community, if at all. \n",
    "\n",
    "In particular, the vast majority of schools were closed in 2013. Since it has been almost 10 years since the schools were closed, this time elapsed provides a useful time period for estimating the short-term effects on neighborhoods. Further, because crime data is widely available, it is possible to measure the changes in crime rates in particular zip codes from year-to-year. And, because some community areas did not have schools closed, it is possible to determine how much of a change in crime is due to citywide trends, and how much can be attributed to the particular school closing. "
   ]
  },
  {
   "cell_type": "markdown",
   "metadata": {},
   "source": [
    "# Data \n",
    "We utilized publicly available data from the City of Chicago Data Portal about Crime Statistics since 2001 by Zip Code. There were also publicly available lists of school closings. Combining the dates and ZIP Codes of school closings and the crime rates for those ZIP codes and years, it is possible to measure the effect of these school closings within a given community area within the city of Chicago.\n",
    "\n",
    "Community areas are defined geographic areas set by the City of Chicago. They are  static, larger than census tracts, and their boundaries do not change as often as city wards, and are more geographically precise than ZIP Codes. \n",
    "\n",
    "One of the challenges in answering this question is identifying confounders. Previous research has shown that overall economic indicators such as unemployment rate and economic growth, as well as the proportion of males ages 15-25 are strong predictors for crime rates. Some of the often stated reasons for schools closing are poor performance and population declines. \n",
    "\n",
    "Therefore, we calculated the "
   ]
  },
  {
   "cell_type": "markdown",
   "metadata": {},
   "source": [
    "# Methodology\n",
    "To identify the causal estimand of interest, we utilized a Double Machine Learning approach. In the figures below, we show the results of a linear regression. \n",
    "When we adjusted for confounders, we found that \n",
    "\n",
    "For estimation, we utilized a Difference in Differences approach to estimating the data.\n",
    "\n",
    "One of the challenges with this analysis was adjusting for observed and unobserved confounders. Social characteristics such as poverty rates, household income, college attainment rates are all predictors of crime. \n",
    "\n",
    "In addition to our identification and estimation techniques, we also conducted sensitivity analysis"
   ]
  },
  {
   "cell_type": "code",
   "execution_count": 19,
   "metadata": {},
   "outputs": [],
   "source": [
    "crime_data_2002_2010 = pd.read_csv(\"2002-2010_crimes.csv\")"
   ]
  },
  {
   "cell_type": "code",
   "execution_count": 20,
   "metadata": {},
   "outputs": [],
   "source": [
    "crime_data_small_2002_2010 = crime_data_2002_2010[[\"Year\", \"Community Area\"]]\n",
    "grouped_2002_2010 = crime_data_small.groupby([\"Year\", \"Community Area\"]).size()\n",
    "grouped_2002_2010.to_csv('2002_2010_crime_groupings.csv')"
   ]
  },
  {
   "cell_type": "code",
   "execution_count": 3,
   "metadata": {},
   "outputs": [],
   "source": [
    "crime_data_2011_2020 = pd.read_csv(\"2011-2020_crimes.csv\")"
   ]
  },
  {
   "cell_type": "code",
   "execution_count": 5,
   "metadata": {},
   "outputs": [],
   "source": [
    "crime_data_small_2011_2020 = crime_data_2011_2020[[\"Year\", \"Community Area\"]]\n",
    "grouped_2011_2020 = crime_data_small_2011_2020.groupby([\"Year\", \"Community Area\"]).size()\n",
    "grouped_2011_2020.to_csv('2011_2020_crime_groupings.csv')"
   ]
  },
  {
   "cell_type": "code",
   "execution_count": 5,
   "metadata": {},
   "outputs": [
    {
     "ename": "NameError",
     "evalue": "name 'RANDOM_SEED' is not defined",
     "output_type": "error",
     "traceback": [
      "\u001b[0;31m---------------------------------------------------------------------------\u001b[0m",
      "\u001b[0;31mNameError\u001b[0m                                 Traceback (most recent call last)",
      "\u001b[0;32m<ipython-input-5-096216070a86>\u001b[0m in \u001b[0;36m<module>\u001b[0;34m\u001b[0m\n\u001b[1;32m      4\u001b[0m \u001b[0;32mdef\u001b[0m \u001b[0mcreate_Q\u001b[0m\u001b[0;34m(\u001b[0m\u001b[0;34m)\u001b[0m\u001b[0;34m:\u001b[0m\u001b[0;34m\u001b[0m\u001b[0;34m\u001b[0m\u001b[0m\n\u001b[1;32m      5\u001b[0m     \u001b[0;32mreturn\u001b[0m \u001b[0mRandomForestRegressor\u001b[0m\u001b[0;34m(\u001b[0m\u001b[0mrandom_state\u001b[0m \u001b[0;34m=\u001b[0m \u001b[0mRANDOM_SEED\u001b[0m\u001b[0;34m,\u001b[0m \u001b[0mn_estimators\u001b[0m \u001b[0;34m=\u001b[0m \u001b[0;36m500\u001b[0m\u001b[0;34m)\u001b[0m\u001b[0;34m\u001b[0m\u001b[0;34m\u001b[0m\u001b[0m\n\u001b[0;32m----> 6\u001b[0;31m \u001b[0mrandom_forest_Q\u001b[0m \u001b[0;34m=\u001b[0m \u001b[0mcreate_Q\u001b[0m\u001b[0;34m(\u001b[0m\u001b[0;34m)\u001b[0m\u001b[0;34m\u001b[0m\u001b[0;34m\u001b[0m\u001b[0m\n\u001b[0m\u001b[1;32m      7\u001b[0m \u001b[0;34m\u001b[0m\u001b[0m\n\u001b[1;32m      8\u001b[0m \u001b[0;31m# gradient boosting model\u001b[0m\u001b[0;34m\u001b[0m\u001b[0;34m\u001b[0m\u001b[0;34m\u001b[0m\u001b[0m\n",
      "\u001b[0;32m<ipython-input-5-096216070a86>\u001b[0m in \u001b[0;36mcreate_Q\u001b[0;34m()\u001b[0m\n\u001b[1;32m      3\u001b[0m \u001b[0;31m# random forest model\u001b[0m\u001b[0;34m\u001b[0m\u001b[0;34m\u001b[0m\u001b[0;34m\u001b[0m\u001b[0m\n\u001b[1;32m      4\u001b[0m \u001b[0;32mdef\u001b[0m \u001b[0mcreate_Q\u001b[0m\u001b[0;34m(\u001b[0m\u001b[0;34m)\u001b[0m\u001b[0;34m:\u001b[0m\u001b[0;34m\u001b[0m\u001b[0;34m\u001b[0m\u001b[0m\n\u001b[0;32m----> 5\u001b[0;31m     \u001b[0;32mreturn\u001b[0m \u001b[0mRandomForestRegressor\u001b[0m\u001b[0;34m(\u001b[0m\u001b[0mrandom_state\u001b[0m \u001b[0;34m=\u001b[0m \u001b[0mRANDOM_SEED\u001b[0m\u001b[0;34m,\u001b[0m \u001b[0mn_estimators\u001b[0m \u001b[0;34m=\u001b[0m \u001b[0;36m500\u001b[0m\u001b[0;34m)\u001b[0m\u001b[0;34m\u001b[0m\u001b[0;34m\u001b[0m\u001b[0m\n\u001b[0m\u001b[1;32m      6\u001b[0m \u001b[0mrandom_forest_Q\u001b[0m \u001b[0;34m=\u001b[0m \u001b[0mcreate_Q\u001b[0m\u001b[0;34m(\u001b[0m\u001b[0;34m)\u001b[0m\u001b[0;34m\u001b[0m\u001b[0;34m\u001b[0m\u001b[0m\n\u001b[1;32m      7\u001b[0m \u001b[0;34m\u001b[0m\u001b[0m\n",
      "\u001b[0;31mNameError\u001b[0m: name 'RANDOM_SEED' is not defined"
     ]
    }
   ],
   "source": [
    "# create nuisance functions \n",
    "\n",
    "# random forest model \n",
    "def create_random_forest_Q():\n",
    "    return RandomForestRegressor(random_state = RANDOM_SEED, n_estimators = 500)\n",
    "random_forest_Q = create_Q()\n",
    "\n",
    "# gradient boosting model \n",
    "def create_xgb_Q():\n",
    "    return XGBClassifier()\n",
    "\n",
    "# OLS\n",
    "def create_ols_Q():\n",
    "    return OLS\n",
    "\n",
    "# LASSO\n",
    "def create_LASSO():\n",
    "    return LASSO\n",
    "\n",
    "X_w_treatment = confounders.copy()\n",
    "X_w_treatment['treatment'] = treatment\n",
    "\n",
    "X_train, X_trest, Y_train, Y_test = train_test_split(X_w_treatment, outcome, test_size = 0.2)\n",
    "random_forest_Q.fit(X_train, Y_train)\n",
    "xgb_Q_fit(X_train, Y_train)\n",
    "ols_Q_fit(X_train, Y_train)\n",
    "LASSO_Q_fit(X_train, Y_train)\n",
    "\n",
    "fit_MSE = mean_squared_error(Y_pred, Y_test)\n",
    "baseline_MSE = mean_squared_erro(y_train.mean()*np.ones_like(Y_test), Y_test)\n",
    "\n"
   ]
  },
  {
   "cell_type": "code",
   "execution_count": null,
   "metadata": {},
   "outputs": [],
   "source": [
    "# propensity scores model \n",
    "\n",
    "def create_g():\n",
    "    return Logistic Regression(max_iter=1000)\n",
    "    return RandomForestClassifier(n_estimators=100, max_depth=5)\n",
    "g_model = create_g()\n",
    "\n",
    "X_train, X_test, A_train, A_test = train_test_split(confounders, treatment)\n",
    "g_model.fit(X_train, A_train)\n",
    "A_pred = g_model.predict_proba(X_test)[:,1]\n",
    "\n",
    "test_cross_entropy = log_loss(A_test, A_pred)\n",
    "baseline_cross_entropy = log_loss(A_test, A_Train.mean()*np.ones_like(A_test))"
   ]
  },
  {
   "cell_type": "code",
   "execution_count": null,
   "metadata": {},
   "outputs": [],
   "source": [
    "# could do cross fitting here? Idt it will work tho "
   ]
  },
  {
   "cell_type": "code",
   "execution_count": null,
   "metadata": {},
   "outputs": [],
   "source": [
    "# Double ML estimator for ATT\n",
    "\n",
    "def att_aiptw(Q0, Q1, g, A, Y, prob_t=None):\n",
    "    if prob_t is None:\n",
    "        prob_t = A.mean()\n",
    "    tau_hat = (A*(Y-Q0) - (1-A)*(g/(1-g))*(Y-Q0) - tau_hat*A) / prob_t\n",
    "    n = Y.shape[0]\n",
    "    std_hat = np.std(scores) / np.sqrt(n)\n",
    "    \n",
    "    return tau_hat, std_hat"
   ]
  },
  {
   "cell_type": "code",
   "execution_count": null,
   "metadata": {},
   "outputs": [],
   "source": [
    "# Double ML estimator for ATE \n",
    "def ate_aiptw(Q0, Q1, g, A, Y, prob_t=None):\n",
    "    tau_hat = (Q1-Q0 + A*(Y-Q1)/g - (1-A) * (Y-Q0)/(1-g)).mean()\n",
    "    \n",
    "    scores = Q1 - Q0 + A*(Y-Q1)/g - (1-A) * (Y-Q0)(1-g) - tau_hat\n",
    "    n = Y.shape[0]\n",
    "    std_hat = np.std(scores) / np.sqrt(n)\n",
    "    \n",
    "    return tau_hat, std_hat"
   ]
  },
  {
   "cell_type": "code",
   "execution_count": null,
   "metadata": {},
   "outputs": [],
   "source": [
    "# Double ML Library Estimation Procedure "
   ]
  },
  {
   "cell_type": "code",
   "execution_count": null,
   "metadata": {},
   "outputs": [],
   "source": []
  },
  {
   "cell_type": "code",
   "execution_count": null,
   "metadata": {},
   "outputs": [],
   "source": [
    "# Differences in Differences Estimation "
   ]
  },
  {
   "cell_type": "markdown",
   "metadata": {},
   "source": [
    "# Results"
   ]
  },
  {
   "cell_type": "markdown",
   "metadata": {},
   "source": [
    "# Sensitivity Analysis"
   ]
  },
  {
   "cell_type": "code",
   "execution_count": null,
   "metadata": {},
   "outputs": [],
   "source": [
    "# Austen Plots \n",
    "target_bias = 15.0 \n",
    "covariates = {}\n",
    "estimates_for_nuisance = {}\n",
    "for group, covariates in covariates.items():\n",
    "    narrowed_confounders = confounders.drop(columns = covariates)\n",
    "    \n",
    "g = treatment_k_fold_fit_and_predict(create_g_model, X = narrowed_confounders, A = treatment, n_splits = 5)\n",
    "Q0, Q1 = outcome_k_fold_fit_and_predict()\n",
    "\n",
    "data_nuisance_estimates = pd.DataFrame(({'g': g, 'Q0': Q0, 'Q1': Q1, 'A': treatment, 'Y': outcome}))\n",
    "nuisance_estimates[group] = data_nuisance_estimates\n",
    "austen_plot = AustenPlot(data_nuisance, covariate_path)\n",
    "p, plot_cooredinates, variable_coordinates = austen_plot.fit(bias = target_bias)"
   ]
  },
  {
   "cell_type": "markdown",
   "metadata": {},
   "source": [
    "# Additional Considerations\n",
    "One of the most obvious considerations in our analysis is that the factors that lead to crime are not precisely understood. As stated earlier, there are a few indicators "
   ]
  }
 ],
 "metadata": {
  "kernelspec": {
   "display_name": "Python 3",
   "language": "python",
   "name": "python3"
  },
  "language_info": {
   "codemirror_mode": {
    "name": "ipython",
    "version": 3
   },
   "file_extension": ".py",
   "mimetype": "text/x-python",
   "name": "python",
   "nbconvert_exporter": "python",
   "pygments_lexer": "ipython3",
   "version": "3.8.0"
  }
 },
 "nbformat": 4,
 "nbformat_minor": 4
}
